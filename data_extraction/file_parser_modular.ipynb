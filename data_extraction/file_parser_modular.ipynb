{
 "cells": [
  {
   "cell_type": "markdown",
   "metadata": {},
   "source": [
    "# 🔧 Digital Forensics File Parser (Modular Jupyter Version)"
   ]
  },
  {
   "cell_type": "code",
   "execution_count": null,
   "metadata": {},
   "outputs": [],
   "source": [
    "import subprocess
",
    "import os
",
    "import re
",
    "import shutil
",
    "import sqlite3
",
    "import pandas as pd"
   ]
  },
  {
   "cell_type": "code",
   "execution_count": null,
   "metadata": {},
   "outputs": [],
   "source": [
    "def create_out_dir(file_type, out_base):
",
    "    out_type_path = os.path.join(out_base, file_type)
",
    "    if os.path.isdir(out_type_path):
",
    "        shutil.rmtree(out_type_path, ignore_errors=True)
",
    "    os.makedirs(out_type_path, exist_ok=True)
",
    "    print(f"Created: {out_type_path}")
",
    "    return out_type_path"
   ]
  },
  {
   "cell_type": "code",
   "execution_count": null,
   "metadata": {},
   "outputs": [],
   "source": [
    "def find_files(file_type, in_path):
",
    "    proc = subprocess.run(["find", in_path, "-type", "f", "-name", "*"], stdout=subprocess.PIPE, text=True)
",
    "    fs = proc.stdout.strip().split("\n")
",
    "    fs_type = []
",
    "    for f in fs:
",
    "        proc = subprocess.run(["file", f], stdout=subprocess.PIPE, text=True)
",
    "        if file_type in proc.stdout:
",
    "            fs_type.append(f)
",
    "        elif file_type == "txt" and len(proc.stdout) == 0:
",
    "            fs_type.append(f)
",
    "    return fs_type"
   ]
  },
  {
   "cell_type": "code",
   "execution_count": null,
   "metadata": {},
   "outputs": [],
   "source": [
    "# Individual file-type processors
",
    "
",
    "def process_pe_executable(f, ofname):
",
    "    try:
",
    "        print(f"🧠 Extracting strings from binary: {f}")
",
    "        strings = subprocess.run(["strings", f], stdout=subprocess.PIPE, text=True).stdout
",
    "        clean = subprocess.run(["tr", "\n", " "], input=strings, stdout=subprocess.PIPE, text=True).stdout
",
    "        result = subprocess.run(["tr", "-s", " "], input=clean, stdout=subprocess.PIPE, text=True).stdout
",
    "        with open(ofname + ".txt", 'w') as of:
",
    "            of.write(result)
",
    "    except Exception as e:
",
    "        print(f"❌ Failed to process PE executable: {e}")
",
    "
",
    "def process_word_doc(f, ofname):
",
    "    try:
",
    "        print(f"📄 Extracting text from Word doc: {f}")
",
    "        doc = subprocess.run(["unzip", "-p", f, "word/document.xml"], stdout=subprocess.PIPE, text=True).stdout
",
    "        doc_clean = subprocess.run(["sed", "-E", "s/<[^<]*paraId[^>]*>/ /g ; s/<[^>]+>//g"], input=doc, stdout=subprocess.PIPE, text=True).stdout
",
    "        with open(ofname + ".txt", 'w') as of:
",
    "            of.write(doc_clean)
",
    "        core = subprocess.run(["unzip", "-p", f, "docProps/core.xml"], stdout=subprocess.PIPE, text=True).stdout
",
    "        core_clean = subprocess.run(["sed", "-E", "s/<[^>]+>/ /g"], input=core, stdout=subprocess.PIPE, text=True).stdout
",
    "        with open(ofname + ".txt", 'a') as of:
",
    "            of.write(core_clean)
",
    "    except Exception as e:
",
    "        print(f"❌ Failed to process Word file: {e}")
",
    "
",
    "def process_sqlite(f, ofname):
",
    "    try:
",
    "        print(f"🗃️ Processing SQLite DB: {f}")
",
    "        conn = sqlite3.connect(f, isolation_level=None, detect_types=sqlite3.PARSE_COLNAMES)
",
    "        cursor = conn.cursor()
",
    "        cursor.execute("SELECT name FROM sqlite_master WHERE type='table';")
",
    "        for (table,) in cursor.fetchall():
",
    "            df = pd.read_sql_query(f"SELECT * FROM {table}", conn)
",
    "            df.to_csv(f"{ofname}_{table}.txt", index=False)
",
    "        conn.close()
",
    "    except Exception as e:
",
    "        print(f"❌ Failed to process SQLite DB: {e}")
",
    "
",
    "def process_image_metadata(f, ofname):
",
    "    try:
",
    "        print(f"🖼️ Extracting metadata from image: {f}")
",
    "        with open(ofname + ".txt", 'w') as of:
",
    "            subprocess.run(["exiftool", f], stdout=of, text=True)
",
    "    except Exception as e:
",
    "        print(f"❌ Failed to process image file: {e}")
",
    "
",
    "def process_ebook(f, ofname):
",
    "    try:
",
    "        print(f"📚 Converting PDF to text: {f}")
",
    "        subprocess.run(["ebook-convert", f, ofname + ".txt"])
",
    "    except Exception as e:
",
    "        print(f"❌ Failed to convert ebook: {e}")
",
    "
",
    "def process_copy_file(f, ofname):
",
    "    try:
",
    "        print(f"📥 Copying file to text: {f}")
",
    "        subprocess.run(["cp", f, ofname + ".txt"])
",
    "    except Exception as e:
",
    "        print(f"❌ Failed to copy file: {e}")
",
    "
",
    "def process_binary_file(f, ofname):
",
    "    try:
",
    "        print(f"🔢 Dumping binary: {f}")
",
    "        with open(ofname + ".txt", 'w') as of:
",
    "            subprocess.run(["od", "-t", "x1", "-c", f], stdout=of, text=True)
",
    "    except Exception as e:
",
    "        print(f"❌ Failed to dump binary file: {e}")"
   ]
  },
  {
   "cell_type": "code",
   "execution_count": null,
   "metadata": {},
   "outputs": [],
   "source": [
    "def convert_file_to_strings(in_path, out_base, file_type):
",
    "    out_type_path = create_out_dir(file_type, out_base)
",
    "    fs_type = find_files(file_type, in_path)
",
    "
",
    "    for f in fs_type:
",
    "        ofname = os.path.join(out_type_path, re.sub('[/$~.]', '-', str(f)))
",
    "
",
    "        if file_type == "PE32 executable":
",
    "            process_pe_executable(f, ofname)
",
    "        elif file_type == "Microsoft Word 2007+":
",
    "            process_word_doc(f, ofname)
",
    "        elif file_type == "PDF document":
",
    "            process_ebook(f, ofname)
",
    "        elif file_type == "SQLite":
",
    "            process_sqlite(f, ofname)
",
    "        elif file_type == "Apple binary" and (f.endswith(".plist") or f.endswith(".strings")):
",
    "            process_copy_file(f, ofname)
",
    "        elif file_type in ["HTML document", "XML 1.0 document", "JSON data", "ASCII text"]:
",
    "            process_copy_file(f, ofname)
",
    "        elif file_type in ["PNG image data", "TIFF image data", "JPEG"]:
",
    "            process_image_metadata(f, ofname)
",
    "        elif file_type == "data" and f.endswith(".bin"):
",
    "            process_binary_file(f, ofname)
",
    "        elif file_type == "txt":
",
    "            process_copy_file(f, ofname)"
   ]
  }
 ],
 "metadata": {
  "kernelspec": {
   "display_name": "Python 3",
   "language": "python",
   "name": "python3"
  },
  "language_info": {
   "name": "python"
  }
 },
 "nbformat": 4,
 "nbformat_minor": 4
}
