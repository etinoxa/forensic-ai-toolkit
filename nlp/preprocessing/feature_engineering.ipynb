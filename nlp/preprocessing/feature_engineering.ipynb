{
 "cells": [
  {
   "metadata": {},
   "cell_type": "markdown",
   "source": "Feature Engineering",
   "id": "5fa9570b38d17e95"
  },
  {
   "metadata": {
    "ExecuteTime": {
     "end_time": "2025-05-13T00:28:09.346057Z",
     "start_time": "2025-05-13T00:28:05.726345Z"
    }
   },
   "cell_type": "code",
   "source": "!pip install contractions",
   "id": "b07c0e358631c35e",
   "outputs": [
    {
     "name": "stdout",
     "output_type": "stream",
     "text": [
      "Collecting contractions\n",
      "  Downloading contractions-0.1.73-py2.py3-none-any.whl.metadata (1.2 kB)\n",
      "Collecting textsearch>=0.0.21 (from contractions)\n",
      "  Downloading textsearch-0.0.24-py2.py3-none-any.whl.metadata (1.2 kB)\n",
      "Collecting anyascii (from textsearch>=0.0.21->contractions)\n",
      "  Downloading anyascii-0.3.2-py3-none-any.whl.metadata (1.5 kB)\n",
      "Collecting pyahocorasick (from textsearch>=0.0.21->contractions)\n",
      "  Downloading pyahocorasick-2.1.0-cp311-cp311-win_amd64.whl.metadata (13 kB)\n",
      "Downloading contractions-0.1.73-py2.py3-none-any.whl (8.7 kB)\n",
      "Downloading textsearch-0.0.24-py2.py3-none-any.whl (7.6 kB)\n",
      "Downloading anyascii-0.3.2-py3-none-any.whl (289 kB)\n",
      "Downloading pyahocorasick-2.1.0-cp311-cp311-win_amd64.whl (39 kB)\n",
      "Installing collected packages: pyahocorasick, anyascii, textsearch, contractions\n",
      "\n",
      "   ---------- ----------------------------- 1/4 [anyascii]\n",
      "   ---------- ----------------------------- 1/4 [anyascii]\n",
      "   ------------------------------ --------- 3/4 [contractions]\n",
      "   ---------------------------------------- 4/4 [contractions]\n",
      "\n",
      "Successfully installed anyascii-0.3.2 contractions-0.1.73 pyahocorasick-2.1.0 textsearch-0.0.24\n"
     ]
    }
   ],
   "execution_count": 32
  },
  {
   "cell_type": "code",
   "id": "initial_id",
   "metadata": {
    "collapsed": true,
    "ExecuteTime": {
     "end_time": "2025-05-13T00:28:15.976294Z",
     "start_time": "2025-05-13T00:28:15.865665Z"
    }
   },
   "source": [
    "import numpy as np\n",
    "import pandas as pd\n",
    "import re\n",
    "import string\n",
    "import contractions\n",
    "from string import punctuation\n",
    "import nltk\n",
    "from nltk.corpus import stopwords\n",
    "from sympy.physics.secondquant import contraction\n",
    "\n",
    "nltk.download('stopwords')\n",
    "nltk.download('punkt')"
   ],
   "outputs": [
    {
     "name": "stderr",
     "output_type": "stream",
     "text": [
      "[nltk_data] Downloading package stopwords to\n",
      "[nltk_data]     C:\\Users\\scott\\AppData\\Roaming\\nltk_data...\n",
      "[nltk_data]   Package stopwords is already up-to-date!\n",
      "[nltk_data] Downloading package punkt to\n",
      "[nltk_data]     C:\\Users\\scott\\AppData\\Roaming\\nltk_data...\n",
      "[nltk_data]   Package punkt is already up-to-date!\n"
     ]
    },
    {
     "data": {
      "text/plain": [
       "True"
      ]
     },
     "execution_count": 33,
     "metadata": {},
     "output_type": "execute_result"
    }
   ],
   "execution_count": 33
  },
  {
   "metadata": {
    "ExecuteTime": {
     "end_time": "2025-05-13T00:24:39.748210Z",
     "start_time": "2025-05-13T00:24:39.741821Z"
    }
   },
   "cell_type": "code",
   "source": [
    "file_path = r\"C:\\Users\\scott\\OneDrive\\Documents\\Protocols\\Python\\PyCharm\\workspaces\\pycharm_windows\\AI_Projects\\ai_cyberforensics\\datasets\\raw\\txt\\vendor.69201161.js.LICENSE.txt\"\n",
    "df = pd.read_table(file_path)"
   ],
   "id": "faaff5b619172246",
   "outputs": [],
   "execution_count": 19
  },
  {
   "metadata": {
    "ExecuteTime": {
     "end_time": "2025-05-13T00:24:39.821162Z",
     "start_time": "2025-05-13T00:24:39.811071Z"
    }
   },
   "cell_type": "code",
   "source": "df",
   "id": "3bec356e1b1bb960",
   "outputs": [
    {
     "data": {
      "text/plain": [
       "                                                   /*\n",
       "0                                       object-assign\n",
       "1                                   (c) Sindre Sorhus\n",
       "2                                        @license MIT\n",
       "3                                                  */\n",
       "4                                                 /*!\n",
       "5                      Copyright (c) 2018 Jed Watson.\n",
       "6     </b>Licensed under the MIT License (MIT), se...\n",
       "7               http://jedwatson.github.io/classnames\n",
       "8                                                  */\n",
       "9                                                 /*!\n",
       "10                              * @bridge/base v2.0.1\n",
       "11                                        * (c) 2021 \n",
       "12                                                 */\n",
       "13                                                /*!\n",
       "14                         * @bridge/bytedance v2.2.9\n",
       "15                                        * (c) 2021 \n",
       "16                                                 */\n",
       "17  /*! ******************************************...\n",
       "18               Copyright (c) Microsoft Corporation.\n",
       "19  Permission to use, copy, modify, and/or distri...\n",
       "20     purpose with or without fee is hereby granted.\n",
       "21  THE SOFTWARE IS PROVIDED \"AS IS\" AND THE AUTHO...\n",
       "22  REGARD TO THIS SOFTWARE INCLUDING ALL IMPLIED ...\n",
       "23  AND FITNESS. IN NO EVENT SHALL THE AUTHOR BE L...\n",
       "24  INDIRECT, OR CONSEQUENTIAL DAMAGES OR ANY DAMA...\n",
       "25  LOSS OF USE, DATA OR PROFITS, WHETHER IN AN AC...\n",
       "26  OTHER TORTIOUS ACTION, ARISING OUT OF OR IN CO...\n",
       "27                      PERFORMANCE OF THIS SOFTWARE.\n",
       "28  **********************************************...\n",
       "29  /*! ******************************************...\n",
       "30  Copyright (c) Microsoft Corporation. All right...\n",
       "31  Licensed under the Apache License, Version 2.0...\n",
       "32  this file except in compliance with the Licens...\n",
       "33  License at http://www.apache.org/licenses/LICE...\n",
       "34  THIS CODE IS PROVIDED ON AN *AS IS* BASIS, WIT...\n",
       "35  KIND, EITHER EXPRESS OR IMPLIED, INCLUDING WIT...\n",
       "36  WARRANTIES OR CONDITIONS OF TITLE, FITNESS FOR...\n",
       "37                MERCHANTABLITY OR NON-INFRINGEMENT.\n",
       "38  See the Apache Version 2.0 License for specifi...\n",
       "39                 and limitations under the License.\n",
       "40  **********************************************...\n",
       "41  /*! regenerator-runtime -- Copyright (c) 2014-...\n",
       "42                                                /**\n",
       "43                                         * @license\n",
       "44   * Copyright (c) ByteDance Ltd. All Rights Res...\n",
       "45                                                 */\n",
       "46                         /** @license React v17.0.2\n",
       "47              * react-jsx-runtime.production.min.js\n",
       "48                                                  *\n",
       "49   * Copyright (c) Facebook, Inc. and its affili...\n",
       "50                                                  *\n",
       "51   * This source code is licensed under the MIT ...\n",
       "52   * LICENSE file in the root directory of this ...\n",
       "53                                                 */"
      ],
      "text/html": [
       "<div>\n",
       "<style scoped>\n",
       "    .dataframe tbody tr th:only-of-type {\n",
       "        vertical-align: middle;\n",
       "    }\n",
       "\n",
       "    .dataframe tbody tr th {\n",
       "        vertical-align: top;\n",
       "    }\n",
       "\n",
       "    .dataframe thead th {\n",
       "        text-align: right;\n",
       "    }\n",
       "</style>\n",
       "<table border=\"1\" class=\"dataframe\">\n",
       "  <thead>\n",
       "    <tr style=\"text-align: right;\">\n",
       "      <th></th>\n",
       "      <th>/*</th>\n",
       "    </tr>\n",
       "  </thead>\n",
       "  <tbody>\n",
       "    <tr>\n",
       "      <th>0</th>\n",
       "      <td>object-assign</td>\n",
       "    </tr>\n",
       "    <tr>\n",
       "      <th>1</th>\n",
       "      <td>(c) Sindre Sorhus</td>\n",
       "    </tr>\n",
       "    <tr>\n",
       "      <th>2</th>\n",
       "      <td>@license MIT</td>\n",
       "    </tr>\n",
       "    <tr>\n",
       "      <th>3</th>\n",
       "      <td>*/</td>\n",
       "    </tr>\n",
       "    <tr>\n",
       "      <th>4</th>\n",
       "      <td>/*!</td>\n",
       "    </tr>\n",
       "    <tr>\n",
       "      <th>5</th>\n",
       "      <td>Copyright (c) 2018 Jed Watson.</td>\n",
       "    </tr>\n",
       "    <tr>\n",
       "      <th>6</th>\n",
       "      <td>&lt;/b&gt;Licensed under the MIT License (MIT), se...</td>\n",
       "    </tr>\n",
       "    <tr>\n",
       "      <th>7</th>\n",
       "      <td>http://jedwatson.github.io/classnames</td>\n",
       "    </tr>\n",
       "    <tr>\n",
       "      <th>8</th>\n",
       "      <td>*/</td>\n",
       "    </tr>\n",
       "    <tr>\n",
       "      <th>9</th>\n",
       "      <td>/*!</td>\n",
       "    </tr>\n",
       "    <tr>\n",
       "      <th>10</th>\n",
       "      <td>* @bridge/base v2.0.1</td>\n",
       "    </tr>\n",
       "    <tr>\n",
       "      <th>11</th>\n",
       "      <td>* (c) 2021</td>\n",
       "    </tr>\n",
       "    <tr>\n",
       "      <th>12</th>\n",
       "      <td>*/</td>\n",
       "    </tr>\n",
       "    <tr>\n",
       "      <th>13</th>\n",
       "      <td>/*!</td>\n",
       "    </tr>\n",
       "    <tr>\n",
       "      <th>14</th>\n",
       "      <td>* @bridge/bytedance v2.2.9</td>\n",
       "    </tr>\n",
       "    <tr>\n",
       "      <th>15</th>\n",
       "      <td>* (c) 2021</td>\n",
       "    </tr>\n",
       "    <tr>\n",
       "      <th>16</th>\n",
       "      <td>*/</td>\n",
       "    </tr>\n",
       "    <tr>\n",
       "      <th>17</th>\n",
       "      <td>/*! ******************************************...</td>\n",
       "    </tr>\n",
       "    <tr>\n",
       "      <th>18</th>\n",
       "      <td>Copyright (c) Microsoft Corporation.</td>\n",
       "    </tr>\n",
       "    <tr>\n",
       "      <th>19</th>\n",
       "      <td>Permission to use, copy, modify, and/or distri...</td>\n",
       "    </tr>\n",
       "    <tr>\n",
       "      <th>20</th>\n",
       "      <td>purpose with or without fee is hereby granted.</td>\n",
       "    </tr>\n",
       "    <tr>\n",
       "      <th>21</th>\n",
       "      <td>THE SOFTWARE IS PROVIDED \"AS IS\" AND THE AUTHO...</td>\n",
       "    </tr>\n",
       "    <tr>\n",
       "      <th>22</th>\n",
       "      <td>REGARD TO THIS SOFTWARE INCLUDING ALL IMPLIED ...</td>\n",
       "    </tr>\n",
       "    <tr>\n",
       "      <th>23</th>\n",
       "      <td>AND FITNESS. IN NO EVENT SHALL THE AUTHOR BE L...</td>\n",
       "    </tr>\n",
       "    <tr>\n",
       "      <th>24</th>\n",
       "      <td>INDIRECT, OR CONSEQUENTIAL DAMAGES OR ANY DAMA...</td>\n",
       "    </tr>\n",
       "    <tr>\n",
       "      <th>25</th>\n",
       "      <td>LOSS OF USE, DATA OR PROFITS, WHETHER IN AN AC...</td>\n",
       "    </tr>\n",
       "    <tr>\n",
       "      <th>26</th>\n",
       "      <td>OTHER TORTIOUS ACTION, ARISING OUT OF OR IN CO...</td>\n",
       "    </tr>\n",
       "    <tr>\n",
       "      <th>27</th>\n",
       "      <td>PERFORMANCE OF THIS SOFTWARE.</td>\n",
       "    </tr>\n",
       "    <tr>\n",
       "      <th>28</th>\n",
       "      <td>**********************************************...</td>\n",
       "    </tr>\n",
       "    <tr>\n",
       "      <th>29</th>\n",
       "      <td>/*! ******************************************...</td>\n",
       "    </tr>\n",
       "    <tr>\n",
       "      <th>30</th>\n",
       "      <td>Copyright (c) Microsoft Corporation. All right...</td>\n",
       "    </tr>\n",
       "    <tr>\n",
       "      <th>31</th>\n",
       "      <td>Licensed under the Apache License, Version 2.0...</td>\n",
       "    </tr>\n",
       "    <tr>\n",
       "      <th>32</th>\n",
       "      <td>this file except in compliance with the Licens...</td>\n",
       "    </tr>\n",
       "    <tr>\n",
       "      <th>33</th>\n",
       "      <td>License at http://www.apache.org/licenses/LICE...</td>\n",
       "    </tr>\n",
       "    <tr>\n",
       "      <th>34</th>\n",
       "      <td>THIS CODE IS PROVIDED ON AN *AS IS* BASIS, WIT...</td>\n",
       "    </tr>\n",
       "    <tr>\n",
       "      <th>35</th>\n",
       "      <td>KIND, EITHER EXPRESS OR IMPLIED, INCLUDING WIT...</td>\n",
       "    </tr>\n",
       "    <tr>\n",
       "      <th>36</th>\n",
       "      <td>WARRANTIES OR CONDITIONS OF TITLE, FITNESS FOR...</td>\n",
       "    </tr>\n",
       "    <tr>\n",
       "      <th>37</th>\n",
       "      <td>MERCHANTABLITY OR NON-INFRINGEMENT.</td>\n",
       "    </tr>\n",
       "    <tr>\n",
       "      <th>38</th>\n",
       "      <td>See the Apache Version 2.0 License for specifi...</td>\n",
       "    </tr>\n",
       "    <tr>\n",
       "      <th>39</th>\n",
       "      <td>and limitations under the License.</td>\n",
       "    </tr>\n",
       "    <tr>\n",
       "      <th>40</th>\n",
       "      <td>**********************************************...</td>\n",
       "    </tr>\n",
       "    <tr>\n",
       "      <th>41</th>\n",
       "      <td>/*! regenerator-runtime -- Copyright (c) 2014-...</td>\n",
       "    </tr>\n",
       "    <tr>\n",
       "      <th>42</th>\n",
       "      <td>/**</td>\n",
       "    </tr>\n",
       "    <tr>\n",
       "      <th>43</th>\n",
       "      <td>* @license</td>\n",
       "    </tr>\n",
       "    <tr>\n",
       "      <th>44</th>\n",
       "      <td>* Copyright (c) ByteDance Ltd. All Rights Res...</td>\n",
       "    </tr>\n",
       "    <tr>\n",
       "      <th>45</th>\n",
       "      <td>*/</td>\n",
       "    </tr>\n",
       "    <tr>\n",
       "      <th>46</th>\n",
       "      <td>/** @license React v17.0.2</td>\n",
       "    </tr>\n",
       "    <tr>\n",
       "      <th>47</th>\n",
       "      <td>* react-jsx-runtime.production.min.js</td>\n",
       "    </tr>\n",
       "    <tr>\n",
       "      <th>48</th>\n",
       "      <td>*</td>\n",
       "    </tr>\n",
       "    <tr>\n",
       "      <th>49</th>\n",
       "      <td>* Copyright (c) Facebook, Inc. and its affili...</td>\n",
       "    </tr>\n",
       "    <tr>\n",
       "      <th>50</th>\n",
       "      <td>*</td>\n",
       "    </tr>\n",
       "    <tr>\n",
       "      <th>51</th>\n",
       "      <td>* This source code is licensed under the MIT ...</td>\n",
       "    </tr>\n",
       "    <tr>\n",
       "      <th>52</th>\n",
       "      <td>* LICENSE file in the root directory of this ...</td>\n",
       "    </tr>\n",
       "    <tr>\n",
       "      <th>53</th>\n",
       "      <td>*/</td>\n",
       "    </tr>\n",
       "  </tbody>\n",
       "</table>\n",
       "</div>"
      ]
     },
     "execution_count": 20,
     "metadata": {},
     "output_type": "execute_result"
    }
   ],
   "execution_count": 20
  },
  {
   "metadata": {},
   "cell_type": "markdown",
   "source": "Remove HTML tags",
   "id": "5510b62180a9c763"
  },
  {
   "metadata": {
    "ExecuteTime": {
     "end_time": "2025-05-13T00:24:39.926973Z",
     "start_time": "2025-05-13T00:24:39.919498Z"
    }
   },
   "cell_type": "code",
   "source": "df.iloc[6]",
   "id": "1b1e10d9b41eb21f",
   "outputs": [
    {
     "data": {
      "text/plain": [
       "/*      </b>Licensed under the MIT License (MIT), se...\n",
       "Name: 6, dtype: object"
      ]
     },
     "execution_count": 21,
     "metadata": {},
     "output_type": "execute_result"
    }
   ],
   "execution_count": 21
  },
  {
   "metadata": {
    "ExecuteTime": {
     "end_time": "2025-05-13T00:24:40.125958Z",
     "start_time": "2025-05-13T00:24:40.118966Z"
    }
   },
   "cell_type": "code",
   "source": "df.iloc[:,0]",
   "id": "2e1c8fe06fc7d1f6",
   "outputs": [
    {
     "data": {
      "text/plain": [
       "0                                         object-assign\n",
       "1                                     (c) Sindre Sorhus\n",
       "2                                          @license MIT\n",
       "3                                                    */\n",
       "4                                                   /*!\n",
       "5                        Copyright (c) 2018 Jed Watson.\n",
       "6       </b>Licensed under the MIT License (MIT), se...\n",
       "7                 http://jedwatson.github.io/classnames\n",
       "8                                                    */\n",
       "9                                                   /*!\n",
       "10                                * @bridge/base v2.0.1\n",
       "11                                          * (c) 2021 \n",
       "12                                                   */\n",
       "13                                                  /*!\n",
       "14                           * @bridge/bytedance v2.2.9\n",
       "15                                          * (c) 2021 \n",
       "16                                                   */\n",
       "17    /*! ******************************************...\n",
       "18                 Copyright (c) Microsoft Corporation.\n",
       "19    Permission to use, copy, modify, and/or distri...\n",
       "20       purpose with or without fee is hereby granted.\n",
       "21    THE SOFTWARE IS PROVIDED \"AS IS\" AND THE AUTHO...\n",
       "22    REGARD TO THIS SOFTWARE INCLUDING ALL IMPLIED ...\n",
       "23    AND FITNESS. IN NO EVENT SHALL THE AUTHOR BE L...\n",
       "24    INDIRECT, OR CONSEQUENTIAL DAMAGES OR ANY DAMA...\n",
       "25    LOSS OF USE, DATA OR PROFITS, WHETHER IN AN AC...\n",
       "26    OTHER TORTIOUS ACTION, ARISING OUT OF OR IN CO...\n",
       "27                        PERFORMANCE OF THIS SOFTWARE.\n",
       "28    **********************************************...\n",
       "29    /*! ******************************************...\n",
       "30    Copyright (c) Microsoft Corporation. All right...\n",
       "31    Licensed under the Apache License, Version 2.0...\n",
       "32    this file except in compliance with the Licens...\n",
       "33    License at http://www.apache.org/licenses/LICE...\n",
       "34    THIS CODE IS PROVIDED ON AN *AS IS* BASIS, WIT...\n",
       "35    KIND, EITHER EXPRESS OR IMPLIED, INCLUDING WIT...\n",
       "36    WARRANTIES OR CONDITIONS OF TITLE, FITNESS FOR...\n",
       "37                  MERCHANTABLITY OR NON-INFRINGEMENT.\n",
       "38    See the Apache Version 2.0 License for specifi...\n",
       "39                   and limitations under the License.\n",
       "40    **********************************************...\n",
       "41    /*! regenerator-runtime -- Copyright (c) 2014-...\n",
       "42                                                  /**\n",
       "43                                           * @license\n",
       "44     * Copyright (c) ByteDance Ltd. All Rights Res...\n",
       "45                                                   */\n",
       "46                           /** @license React v17.0.2\n",
       "47                * react-jsx-runtime.production.min.js\n",
       "48                                                    *\n",
       "49     * Copyright (c) Facebook, Inc. and its affili...\n",
       "50                                                    *\n",
       "51     * This source code is licensed under the MIT ...\n",
       "52     * LICENSE file in the root directory of this ...\n",
       "53                                                   */\n",
       "Name: /*, dtype: object"
      ]
     },
     "execution_count": 22,
     "metadata": {},
     "output_type": "execute_result"
    }
   ],
   "execution_count": 22
  },
  {
   "metadata": {
    "ExecuteTime": {
     "end_time": "2025-05-13T00:24:40.366414Z",
     "start_time": "2025-05-13T00:24:40.362974Z"
    }
   },
   "cell_type": "code",
   "source": "df_6 = df.iloc[6]",
   "id": "cbb57f0c420251d7",
   "outputs": [],
   "execution_count": 23
  },
  {
   "metadata": {
    "ExecuteTime": {
     "end_time": "2025-05-13T00:24:40.621609Z",
     "start_time": "2025-05-13T00:24:40.615596Z"
    }
   },
   "cell_type": "code",
   "source": "df_6",
   "id": "927a497fb1176e9e",
   "outputs": [
    {
     "data": {
      "text/plain": [
       "/*      </b>Licensed under the MIT License (MIT), se...\n",
       "Name: 6, dtype: object"
      ]
     },
     "execution_count": 24,
     "metadata": {},
     "output_type": "execute_result"
    }
   ],
   "execution_count": 24
  },
  {
   "metadata": {
    "ExecuteTime": {
     "end_time": "2025-05-13T00:24:40.807557Z",
     "start_time": "2025-05-13T00:24:40.799670Z"
    }
   },
   "cell_type": "code",
   "source": [
    "df_6 = df_6.map(lambda x: re.sub(r'<.*?>', '', x))\n",
    "df_6"
   ],
   "id": "6d164e4d8e3e37f6",
   "outputs": [
    {
     "data": {
      "text/plain": [
       "/*      Licensed under the MIT License (MIT), see  /...\n",
       "Name: 6, dtype: object"
      ]
     },
     "execution_count": 25,
     "metadata": {},
     "output_type": "execute_result"
    }
   ],
   "execution_count": 25
  },
  {
   "metadata": {},
   "cell_type": "markdown",
   "source": "Convert to lowercase",
   "id": "2fc5c5708a597c56"
  },
  {
   "metadata": {
    "ExecuteTime": {
     "end_time": "2025-05-13T00:24:41.042308Z",
     "start_time": "2025-05-13T00:24:41.034301Z"
    }
   },
   "cell_type": "code",
   "source": [
    "df_6 = df_6.map(lambda x: x.lower())\n",
    "df_6"
   ],
   "id": "80a2e04e119b9fe1",
   "outputs": [
    {
     "data": {
      "text/plain": [
       "/*      licensed under the mit license (mit), see  /...\n",
       "Name: 6, dtype: object"
      ]
     },
     "execution_count": 26,
     "metadata": {},
     "output_type": "execute_result"
    }
   ],
   "execution_count": 26
  },
  {
   "metadata": {},
   "cell_type": "markdown",
   "source": "Remove URLs",
   "id": "5822337c90b80306"
  },
  {
   "metadata": {},
   "cell_type": "markdown",
   "source": "Remove Contractions",
   "id": "fef202bb347cd355"
  },
  {
   "metadata": {
    "ExecuteTime": {
     "end_time": "2025-05-13T00:28:48.315349Z",
     "start_time": "2025-05-13T00:28:48.308196Z"
    }
   },
   "cell_type": "code",
   "source": [
    "df_6 = df_6.map(lambda x: contractions.fix(x))\n",
    "df_6"
   ],
   "id": "cd748f7816fc7d3f",
   "outputs": [
    {
     "data": {
      "text/plain": [
       "/*      licensed under the mit license (mit), see  /...\n",
       "Name: 6, dtype: object"
      ]
     },
     "execution_count": 35,
     "metadata": {},
     "output_type": "execute_result"
    }
   ],
   "execution_count": 35
  }
 ],
 "metadata": {
  "kernelspec": {
   "display_name": "Python 3",
   "language": "python",
   "name": "python3"
  },
  "language_info": {
   "codemirror_mode": {
    "name": "ipython",
    "version": 2
   },
   "file_extension": ".py",
   "mimetype": "text/x-python",
   "name": "python",
   "nbconvert_exporter": "python",
   "pygments_lexer": "ipython2",
   "version": "2.7.6"
  }
 },
 "nbformat": 4,
 "nbformat_minor": 5
}
